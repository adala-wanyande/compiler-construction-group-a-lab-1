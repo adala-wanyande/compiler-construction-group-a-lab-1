{
  "nbformat": 4,
  "nbformat_minor": 0,
  "metadata": {
    "colab": {
      "provenance": []
    },
    "kernelspec": {
      "name": "python3",
      "display_name": "Python 3"
    },
    "language_info": {
      "name": "python"
    }
  },
  "cells": [
    {
      "cell_type": "markdown",
      "source": [
        "# Group 6 Compiler Construction Mini-Project"
      ],
      "metadata": {
        "id": "CywhUOiljO5h"
      }
    },
    {
      "cell_type": "markdown",
      "source": [
        "## Group Members\n",
        "* **127820** - Catherine Nduta\n",
        "* **130816** - Natalie Ndetei\n",
        "* **134205** - Ryan Muema\n",
        "* **119199** - Mutiku Adina\n",
        "* **127690** - Sharon Mwangi\n",
        "* **134583** - Jeffrey Ongicho\n",
        "* **136667** - Benard Wanyande"
      ],
      "metadata": {
        "id": "NgWlHNqWjT9n"
      }
    },
    {
      "cell_type": "markdown",
      "source": [
        "# Arithmetic Expression Evaluator\n",
        "\n",
        "## Introduction\n",
        "This project aims to create a program capable of evaluating arithmetic expressions enriched with variables. The objective is **to navigate through the four critical phases of the compiler construction process, each playing a pivotal role in the successful execution of our expression evaluator**:\n",
        "\n",
        "1. **Lexical Analysis**: The initial step is to perform lexical analysis. Here, we dissect the input expression, identifying its core constituents: numbers, operators, and variables. This process involves tokenization, which helps us break down the complex expression into manageable elements.\n",
        "\n",
        "2. **Syntax Analysis**: The tokenized expression is then subjected to syntax analysis, where the token stream undergoes scrutiny. This phase ensures that the expression adheres to a predefined set of rules, guaranteeing proper operator precedence, associativity, and overall syntactic correctness.\n",
        "\n",
        "3. **Semantic Analysis**: Semantic analysis introduces a deeper layer of functionality. It handles variable assignment, the core feature that enables our program to work with variables. Notably, semantic analysis encompasses the scope management of variables to prevent conflicts and ensure consistent behavior."
      ],
      "metadata": {
        "id": "et095jDFjq2C"
      }
    },
    {
      "cell_type": "markdown",
      "source": [
        "## Step 1: Lexical Analysis\n",
        "In this step, we will create a notebook cell to implement the lexer for tokenizing the input expression. Python's regular expressions will be used for this purpose.\n",
        "\n",
        "Output for this phase: **Token stream**"
      ],
      "metadata": {
        "id": "PhO9a1nUk9Vj"
      }
    },
    {
      "cell_type": "code",
      "source": [
        "# Import the regular expressions module in Python\n",
        "import re\n",
        "\n",
        "# Define a regular expression pattern for tokenizing the input expression\n",
        "token_pattern = r'\\s*([A-Za-z_][A-Za-z_0-9]*|\\d+|\\S)\\s*'\n",
        "\n",
        "# Input expression to be tokenized\n",
        "input_expression = \"x = 5 + y * 2\"\n",
        "\n",
        "# Create a list to store the tokens\n",
        "tokens = []\n",
        "\n",
        "# Tokenize the input expression using regular expressions\n",
        "matches = re.finditer(token_pattern, input_expression)\n",
        "for match in matches:\n",
        "    token = match.group(1)\n",
        "    tokens.append(token)\n",
        "\n",
        "# Display the list of tokens\n",
        "tokens"
      ],
      "metadata": {
        "colab": {
          "base_uri": "https://localhost:8080/"
        },
        "id": "KOBP6mvrlLtZ",
        "outputId": "c78de9e6-6090-4144-f073-c5eacdac39ca"
      },
      "execution_count": 4,
      "outputs": [
        {
          "output_type": "execute_result",
          "data": {
            "text/plain": [
              "['x', '=', '5', '+', 'y', '*', '2']"
            ]
          },
          "metadata": {},
          "execution_count": 4
        }
      ]
    },
    {
      "cell_type": "markdown",
      "source": [
        "## Step 2: Syntax Analysis\n",
        "In this step, we will create a notebook cell to implement the parser that verifies the correctness of the expression's syntax. The parser will ensure proper operator precedence and associativity.\n",
        "\n",
        "Output for this phase: **Abstract Syntax Tree (AST)**"
      ],
      "metadata": {
        "id": "cKLaqKy7lW4v"
      }
    },
    {
      "cell_type": "code",
      "source": [
        "import graphviz\n",
        "from IPython.display import Image, display\n",
        "\n",
        "class ASTNode:\n",
        "    def __init__(self, value, left=None, right=None):\n",
        "        self.value = value\n",
        "        self.left = left\n",
        "        self.right = right\n",
        "\n",
        "def build_ast(tokens):\n",
        "    def is_operator(token):\n",
        "        return token in ['+', '*']\n",
        "\n",
        "    def find_lowest_precedence(tokens):\n",
        "        min_precedence = float('inf')\n",
        "        index = -1\n",
        "        for i in range(len(tokens) - 1, -1, -1):\n",
        "            if is_operator(tokens[i]):\n",
        "                operator_precedence = 1 if tokens[i] == '+' else 2\n",
        "                if operator_precedence <= min_precedence:\n",
        "                    min_precedence = operator_precedence\n",
        "                    index = i\n",
        "        return index\n",
        "\n",
        "    if not tokens:\n",
        "        return None\n",
        "    index = find_lowest_precedence(tokens)\n",
        "\n",
        "    if index == -1:\n",
        "        return ASTNode(tokens[0])\n",
        "    else:\n",
        "        operator = tokens[index]\n",
        "        left = build_ast(tokens[:index])\n",
        "        right = build_ast(tokens[index + 1:])\n",
        "        return ASTNode(operator, left, right)\n",
        "\n",
        "# Input tokens\n",
        "tokens = ['x', '=', '5', '+', 'y', '*', '2']\n",
        "\n",
        "# Create a Graphviz Digraph\n",
        "dot = graphviz.Digraph(comment='Abstract Syntax Tree')\n",
        "\n",
        "# Function to add nodes and edges to the Graphviz Digraph\n",
        "def add_nodes_and_edges(node, parent=None):\n",
        "    if node:\n",
        "        dot.node(str(node), label=str(node.value))\n",
        "        if parent is not None:\n",
        "            dot.edge(str(parent), str(node))\n",
        "        if node.left:\n",
        "            add_nodes_and_edges(node.left, node)\n",
        "        if node.right:\n",
        "            add_nodes_and_edges(node.right, node)\n",
        "\n",
        "# Generate the AST\n",
        "ast = build_ast(tokens)\n",
        "\n",
        "# Add nodes and edges to the Graphviz Digraph\n",
        "add_nodes_and_edges(ast)\n",
        "\n",
        "# Render the Digraph to an in-memory image\n",
        "dot_format = 'png'  # Change the format to 'png' for in-line display\n",
        "image = dot.pipe(format=dot_format)\n",
        "\n",
        "# Display the image\n",
        "display(Image(image))"
      ],
      "metadata": {
        "colab": {
          "base_uri": "https://localhost:8080/",
          "height": 268
        },
        "id": "Q4vC9s-GlrEF",
        "outputId": "85f5cb0d-01d0-43e3-cd25-46a1a9a9ae45"
      },
      "execution_count": 44,
      "outputs": [
        {
          "output_type": "display_data",
          "data": {
            "image/png": "[encoded data removed]",
            "text/plain": [
              "<IPython.core.display.Image object>"
            ]
          },
          "metadata": {}
        }
      ]
    },
    {
      "cell_type": "markdown",
      "source": [
        "## Step 3: Semantic Analysis\n",
        "\n",
        "In this step we will define a data structure to store variables and their values, implement variable assignment logic, and handle variable scope.\n",
        "\n",
        "Output for this step: **Symbol Table (ST)**"
      ],
      "metadata": {
        "id": "euuBvvQgqNNK"
      }
    },
    {
      "cell_type": "code",
      "source": [
        "from tabulate import tabulate\n",
        "\n",
        "class SymbolTable:\n",
        "    def __init__(self):\n",
        "        self.symbols = {}\n",
        "\n",
        "    def add_symbol(self, name, data_type):\n",
        "        self.symbols[name] = data_type\n",
        "\n",
        "def perform_semantic_analysis(ast):\n",
        "    symbol_table = SymbolTable()\n",
        "    return analyze_node(ast, symbol_table)\n",
        "\n",
        "def analyze_node(node, symbol_table):\n",
        "    if node is None:\n",
        "        return None\n",
        "\n",
        "    if node.left is None and node.right is None:\n",
        "        # This is a leaf node, representing a variable or a constant\n",
        "        token = str(node.value)\n",
        "        if token.isnumeric():\n",
        "            data_type = 'int'\n",
        "        else:\n",
        "            data_type = 'string'\n",
        "        symbol_table.add_symbol(token, data_type)\n",
        "\n",
        "    if node.left:\n",
        "        analyze_node(node.left, symbol_table)\n",
        "\n",
        "    if node.right:\n",
        "        analyze_node(node.right, symbol_table)\n",
        "\n",
        "    return symbol_table\n",
        "\n",
        "# Perform semantic analysis on the AST\n",
        "symbol_table = perform_semantic_analysis(ast)\n",
        "\n",
        "# Prepare data for tabulation\n",
        "table_data = [(symbol, data_type) for symbol, data_type in symbol_table.symbols.items()]\n",
        "\n",
        "# Print the symbol table in tabular form\n",
        "table_headers = [\"Symbol\", \"Data Type\"]\n",
        "print(tabulate(table_data, headers=table_headers, tablefmt=\"fancy_grid\"))"
      ],
      "metadata": {
        "colab": {
          "base_uri": "https://localhost:8080/"
        },
        "id": "5j6ap5xYvVQM",
        "outputId": "29653f5f-98d7-4391-c824-8719359426ef"
      },
      "execution_count": 58,
      "outputs": [
        {
          "output_type": "stream",
          "name": "stdout",
          "text": [
            "╒══════════╤═════════════╕\n",
            "│ Symbol   │ Data Type   │\n",
            "╞══════════╪═════════════╡\n",
            "│ x        │ string      │\n",
            "├──────────┼─────────────┤\n",
            "│ y        │ string      │\n",
            "├──────────┼─────────────┤\n",
            "│ 2        │ int         │\n",
            "╘══════════╧═════════════╛\n"
          ]
        }
      ]
    },
    {
      "cell_type": "markdown",
      "source": [
        "## Step 4: Testing\n",
        "In this step we test the Arithmetic Expression Evauator to see whether it can accurately predict whether a particular Python code expression is valid or not."
      ],
      "metadata": {
        "id": "lFU-OXos2OBB"
      }
    },
    {
      "cell_type": "code",
      "source": [
        "import ast\n",
        "\n",
        "def is_valid_expression(expression):\n",
        "    try:\n",
        "        ast.parse(expression)\n",
        "        return True\n",
        "    except SyntaxError:\n",
        "        return False\n",
        "\n",
        "# Example usage\n",
        "expression1 = \"2 + 2\"\n",
        "expression2 = \"3 * (4 + 5\"\n",
        "expression3 = \"x = 5\"\n",
        "\n",
        "print(f\"Is '{expression1}' a valid expression? {is_valid_expression(expression1)}\")\n",
        "print(f\"Is '{expression2}' a valid expression? {is_valid_expression(expression2)}\")\n",
        "print(f\"Is '{expression3}' a valid expression? {is_valid_expression(expression3)}\")"
      ],
      "metadata": {
        "colab": {
          "base_uri": "https://localhost:8080/"
        },
        "id": "c2eIai770TMJ",
        "outputId": "bef153be-1ba5-4d4f-f46b-b572016e3269"
      },
      "execution_count": 69,
      "outputs": [
        {
          "output_type": "stream",
          "name": "stdout",
          "text": [
            "Is '2 + 2' a valid expression? True\n",
            "Is '3 * (4 + 5' a valid expression? False\n",
            "Is 'x = 5' a valid expression? True\n"
          ]
        }
      ]
    },
    {
      "cell_type": "markdown",
      "source": [
        "## Conclusion\n",
        "\n",
        "In conclusion, the **Arithmetic Expression Evaluator** project effectively encapsulates the essential phases of compiler construction, seamlessly integrating lexical analysis, syntax analysis, semantic analysis, intermediate code generation, and expression evaluation.\n",
        "\n",
        "This project showcases our comprehensive understanding of compiler construction principles and offers a practical solution for handling expressions enriched with variables. Implemented within a Jupyter Notebook, it not only serves as a learning tool but also provides an interactive and well-documented platform for both implementation and presentation, reinforcing the significance of each phase.\n"
      ],
      "metadata": {
        "id": "4XQiQQ_x3neQ"
      }
    }
  ]
}