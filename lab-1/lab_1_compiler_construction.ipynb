{
  "nbformat": 4,
  "nbformat_minor": 0,
  "metadata": {
    "colab": {
      "provenance": []
    },
    "kernelspec": {
      "name": "python3",
      "display_name": "Python 3"
    },
    "language_info": {
      "name": "python"
    }
  },
  "cells": [
    {
      "cell_type": "markdown",
      "source": [
        "# Compiler Construction Lab 1\n",
        "\n",
        "\n",
        "\n",
        "\n",
        "\n",
        "\n"
      ],
      "metadata": {
        "id": "bjhnNbWQXqD4"
      }
    },
    {
      "cell_type": "markdown",
      "source": [
        "## Group Members\n",
        "\n",
        "* 127820 Catherine Nduta\n",
        "* 130816 Natalie Ndetei\n",
        "* 134205 Ryan Muema\n",
        "* 119199 Mutiku Adina\n",
        "* 127690 Sharon Mwangi\n",
        "* 134583 Jeffrey Ongicho\n",
        "* 136667 Benard Wanyande"
      ],
      "metadata": {
        "id": "z3e6H6AWZHNu"
      }
    },
    {
      "cell_type": "markdown",
      "source": [
        "## Task\n",
        "\n",
        "Two part lab:\n",
        "\n",
        "1. Design a simple script that takes an English sentence(s) (either static or dynamic) and outputs the individual words. E.g. An input can be \"He is a smart student\". The output will be individual words \"He\", \"is\", \"a\", \"smart\" and \"student\". Each word on its own line.\n",
        "2.   Edit the flex input file, specifying your own rules (patterns and actions). Explain what the resultant lexer from your specification file would do."
      ],
      "metadata": {
        "id": "87vhVBQ_ZE97"
      }
    },
    {
      "cell_type": "markdown",
      "source": [
        "## Installing Prerequisites"
      ],
      "metadata": {
        "id": "Xxz-QaYdZMsw"
      }
    },
    {
      "cell_type": "code",
      "source": [
        "!sudo apt install flex bison"
      ],
      "metadata": {
        "colab": {
          "base_uri": "https://localhost:8080/"
        },
        "id": "VqjMUqzTZRLX",
        "outputId": "aaabeec8-7150-4f60-cdbb-ff0559804178"
      },
      "execution_count": 1,
      "outputs": [
        {
          "output_type": "stream",
          "name": "stdout",
          "text": [
            "Reading package lists... Done\n",
            "Building dependency tree... Done\n",
            "Reading state information... Done\n",
            "The following additional packages will be installed:\n",
            "  libfl-dev libfl2\n",
            "Suggested packages:\n",
            "  bison-doc flex-doc\n",
            "The following NEW packages will be installed:\n",
            "  bison flex libfl-dev libfl2\n",
            "0 upgraded, 4 newly installed, 0 to remove and 16 not upgraded.\n",
            "Need to get 1,072 kB of archives.\n",
            "After this operation, 3,667 kB of additional disk space will be used.\n",
            "Get:1 http://archive.ubuntu.com/ubuntu jammy/main amd64 flex amd64 2.6.4-8build2 [307 kB]\n",
            "Get:2 http://archive.ubuntu.com/ubuntu jammy/main amd64 bison amd64 2:3.8.2+dfsg-1build1 [748 kB]\n",
            "Get:3 http://archive.ubuntu.com/ubuntu jammy/main amd64 libfl2 amd64 2.6.4-8build2 [10.7 kB]\n",
            "Get:4 http://archive.ubuntu.com/ubuntu jammy/main amd64 libfl-dev amd64 2.6.4-8build2 [6,236 B]\n",
            "Fetched 1,072 kB in 1s (716 kB/s)\n",
            "debconf: unable to initialize frontend: Dialog\n",
            "debconf: (No usable dialog-like program is installed, so the dialog based frontend cannot be used. at /usr/share/perl5/Debconf/FrontEnd/Dialog.pm line 78, <> line 4.)\n",
            "debconf: falling back to frontend: Readline\n",
            "debconf: unable to initialize frontend: Readline\n",
            "debconf: (This frontend requires a controlling tty.)\n",
            "debconf: falling back to frontend: Teletype\n",
            "dpkg-preconfigure: unable to re-open stdin: \n",
            "Selecting previously unselected package flex.\n",
            "(Reading database ... 120901 files and directories currently installed.)\n",
            "Preparing to unpack .../flex_2.6.4-8build2_amd64.deb ...\n",
            "Unpacking flex (2.6.4-8build2) ...\n",
            "Selecting previously unselected package bison.\n",
            "Preparing to unpack .../bison_2%3a3.8.2+dfsg-1build1_amd64.deb ...\n",
            "Unpacking bison (2:3.8.2+dfsg-1build1) ...\n",
            "Selecting previously unselected package libfl2:amd64.\n",
            "Preparing to unpack .../libfl2_2.6.4-8build2_amd64.deb ...\n",
            "Unpacking libfl2:amd64 (2.6.4-8build2) ...\n",
            "Selecting previously unselected package libfl-dev:amd64.\n",
            "Preparing to unpack .../libfl-dev_2.6.4-8build2_amd64.deb ...\n",
            "Unpacking libfl-dev:amd64 (2.6.4-8build2) ...\n",
            "Setting up flex (2.6.4-8build2) ...\n",
            "Setting up libfl2:amd64 (2.6.4-8build2) ...\n",
            "Setting up bison (2:3.8.2+dfsg-1build1) ...\n",
            "update-alternatives: using /usr/bin/bison.yacc to provide /usr/bin/yacc (yacc) in auto mode\n",
            "Setting up libfl-dev:amd64 (2.6.4-8build2) ...\n",
            "Processing triggers for man-db (2.10.2-1) ...\n",
            "Processing triggers for libc-bin (2.35-0ubuntu3.1) ...\n",
            "/sbin/ldconfig.real: /usr/local/lib/libtbb.so.12 is not a symbolic link\n",
            "\n",
            "/sbin/ldconfig.real: /usr/local/lib/libtbbmalloc.so.2 is not a symbolic link\n",
            "\n",
            "/sbin/ldconfig.real: /usr/local/lib/libtbbbind_2_0.so.3 is not a symbolic link\n",
            "\n",
            "/sbin/ldconfig.real: /usr/local/lib/libtbbbind.so.3 is not a symbolic link\n",
            "\n",
            "/sbin/ldconfig.real: /usr/local/lib/libtbbmalloc_proxy.so.2 is not a symbolic link\n",
            "\n",
            "/sbin/ldconfig.real: /usr/local/lib/libtbbbind_2_5.so.3 is not a symbolic link\n",
            "\n"
          ]
        }
      ]
    },
    {
      "cell_type": "code",
      "execution_count": null,
      "metadata": {
        "id": "VLnheLqsXcZX"
      },
      "outputs": [],
      "source": []
    },
    {
      "cell_type": "markdown",
      "source": [
        "# Flex File\n",
        "\n",
        "A simple script that takes an English sentence and outputs the inndividual words."
      ],
      "metadata": {
        "id": "uMZtKsA5ZaxK"
      }
    },
    {
      "cell_type": "code",
      "source": [
        "# /***Declaration***/\n",
        "%%writefile exercise.l\n",
        "%{\n",
        "#include <stdio.h>\n",
        "%}\n",
        "\n",
        "/*** Rule section ***/\n",
        "%%\n",
        "\n",
        "[a-zA-Z]+       { printf(\"Word: %s\\n\", yytext); }\n",
        "[0-9]+          { printf(\"Number: %s\\n\", yytext); }\n",
        "[.,!?]          { printf(\"Punctuation: %s\\n\", yytext); }\n",
        "[ \\t\\n\\r]+      { /* Ignore whitespace */ }\n",
        ".               { printf(\"Other: %s\\n\", yytext); }\n",
        "\n",
        "%%\n",
        "\n",
        "/*** User subroutines ***/\n",
        "int main() {\n",
        "    yylex();\n",
        "    return 0;\n",
        "}\n",
        "\n",
        "int yywrap() {\n",
        "    return 1;\n",
        "/*\n",
        "Explanation:\n",
        "yylex() - this is the main flex function\n",
        "          which runs the Rule Section\n",
        "//yytext is the text in the buffer\n",
        "//The yywrap function is used by Flex to determine what should happen when the end of the input file is reached\n",
        "//[ \\t\\n\\r]+: This rule matches one or more whitespace characters\n",
        "//(space, tab, newline, carriage return) and does nothing, effectively ignoring them.\n",
        "*/\n",
        "}\n",
        "\n"
      ],
      "metadata": {
        "colab": {
          "base_uri": "https://localhost:8080/"
        },
        "id": "p7PfKiusZeJk",
        "outputId": "022f9074-1b9b-49a2-cd1e-72cff6735ecc"
      },
      "execution_count": 3,
      "outputs": [
        {
          "output_type": "stream",
          "name": "stdout",
          "text": [
            "Writing exercise.l\n"
          ]
        }
      ]
    },
    {
      "cell_type": "markdown",
      "source": [
        "## Storing the input in a .txt file"
      ],
      "metadata": {
        "id": "8x47QJFIaKu1"
      }
    },
    {
      "cell_type": "code",
      "source": [
        "%%writefile input.txt\n",
        "\n",
        "Our group work is definitely the best because our script recognizes punctuation marks."
      ],
      "metadata": {
        "colab": {
          "base_uri": "https://localhost:8080/"
        },
        "id": "0BGG4KRWaPtg",
        "outputId": "1a125459-89f5-4a4d-b6bc-d59ecde0b6ac"
      },
      "execution_count": 5,
      "outputs": [
        {
          "output_type": "stream",
          "name": "stdout",
          "text": [
            "Overwriting input.txt\n"
          ]
        }
      ]
    },
    {
      "cell_type": "markdown",
      "source": [
        "## Running the program (shell execution)"
      ],
      "metadata": {
        "id": "wlyWxci_ak-G"
      }
    },
    {
      "cell_type": "code",
      "source": [
        "%%shell\n",
        "\n",
        "flex exercise.l\n",
        "gcc lex.yy.c -o lexer -lfl\n",
        "./lexer < input.txt"
      ],
      "metadata": {
        "colab": {
          "base_uri": "https://localhost:8080/"
        },
        "id": "hshzou3DauAL",
        "outputId": "ee0dd4de-ebd4-4c8c-ab54-ff8b6021019a"
      },
      "execution_count": 17,
      "outputs": [
        {
          "output_type": "stream",
          "name": "stdout",
          "text": [
            "Word: Our\n",
            "Word: group\n",
            "Word: work\n",
            "Word: is\n",
            "Word: definitely\n",
            "Word: the\n",
            "Word: best\n",
            "Word: because\n",
            "Word: our\n",
            "Word: script\n",
            "Word: recognizes\n",
            "Word: punctuation\n",
            "Word: marks\n",
            "Punctuation: .\n"
          ]
        },
        {
          "output_type": "execute_result",
          "data": {
            "text/plain": []
          },
          "metadata": {},
          "execution_count": 17
        }
      ]
    },
    {
      "cell_type": "markdown",
      "source": [
        "## Explanation\n",
        "The resultant lexer generated from your Flex (Lex) specification file exercise.l will tokenize input text (English sentences) and classify the individual components into different categories based on the rules specified in the Flex script. Here's a breakdown of what the lexer does:\n",
        "\n",
        "* **Tokenization**: The lexer reads the input text character by character and\n",
        "\n",
        "attempts to match the characters against the rules defined in the Flex script.\n",
        "\n",
        "* **Classification of Tokens**: Depending on the input characters and the rules specified, the lexer classifies the input into the following categories:\n",
        "\n",
        "  * **Words**: Any sequence of one or more alphabetical characters (letters) will be classified as a word. It prints \"Word: \" followed by the word itself.\n",
        "\n",
        "  * **Punctuation**: Characters like '.', ',', '!', and '?' are classified as punctuation. It prints \"Punctuation: \" followed by the punctuation character.\n",
        "\n",
        "* **Output**: As the lexer processes the input, it prints the classification of each token along with the token itself. For example, if you input the sentence \"This is a sample sentence.\", the lexer will produce the following output:\n",
        "\n",
        "  > ![image.png](data:image/png;base64,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)\n",
        "  \n",
        "  The lexer we've described is a basic text tokenizer that can be used to analyze and categorize text into words, numbers, punctuation, and other characters based on the specified rules. It's a fundamental component in building parsers and compilers for processing and understanding textual data.\n",
        "\n",
        "\n",
        "\n",
        "\n"
      ],
      "metadata": {
        "id": "qYkzDANpdn2c"
      }
    }
  ]
}