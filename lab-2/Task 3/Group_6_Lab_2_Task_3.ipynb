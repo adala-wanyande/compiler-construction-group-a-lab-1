{
  "nbformat": 4,
  "nbformat_minor": 0,
  "metadata": {
    "colab": {
      "provenance": []
    },
    "kernelspec": {
      "name": "python3",
      "display_name": "Python 3"
    },
    "language_info": {
      "name": "python"
    }
  },
  "cells": [
    {
      "cell_type": "markdown",
      "source": [
        "# Group 6 Lab 2 Task 3"
      ],
      "metadata": {
        "id": "-Zj3z4GuswjG"
      }
    },
    {
      "cell_type": "markdown",
      "source": [
        "## Group Members\n",
        "* **127820** - Catherine Nduta\n",
        "* **130816** - Natalie Ndetei\n",
        "* **134205** - Ryan Muema\n",
        "* **119199** - Mutiku Adina\n",
        "* **127690** - Sharon Mwangi\n",
        "* **134583** - Jeffrey Ongicho\n",
        "* **136667** - Benard Wanyande"
      ],
      "metadata": {
        "id": "a2sxDDsIs6dp"
      }
    },
    {
      "cell_type": "markdown",
      "source": [
        "# Task 3\n",
        "- Write a program to construct the LL (1) table for a given CFG. [The CFG can be static i.e. the same CFG all time or dynamic, meaning based on a given structure of your choice, one can specify any CFG and your program produces the relevant LL (1) table]."
      ],
      "metadata": {
        "id": "QlBXVHPis_5I"
      }
    },
    {
      "cell_type": "markdown",
      "source": [
        "*Python is used below*"
      ],
      "metadata": {
        "id": "FjOiSkSdtdC9"
      }
    },
    {
      "cell_type": "code",
      "source": [
        "!pip install tabulate\n"
      ],
      "metadata": {
        "colab": {
          "base_uri": "https://localhost:8080/"
        },
        "id": "Y--3PyOVuM5s",
        "outputId": "439c9c10-bb2f-4149-f796-2b7b761219de"
      },
      "execution_count": 5,
      "outputs": [
        {
          "output_type": "stream",
          "name": "stdout",
          "text": [
            "Requirement already satisfied: tabulate in /usr/local/lib/python3.10/dist-packages (0.9.0)\n"
          ]
        }
      ]
    },
    {
      "cell_type": "code",
      "source": [
        "from tabulate import tabulate\n",
        "\n",
        "class LL1Parser:\n",
        "    def __init__(self):\n",
        "        self.grammar = {}  # Dictionary to store production rules\n",
        "        self.non_terminals = set()\n",
        "        self.terminals = set()\n",
        "        self.first_sets = {}  # First sets for non-terminals\n",
        "        self.follow_sets = {}  # Follow sets for non-terminals\n",
        "        self.parsing_table = {}\n",
        "\n",
        "    def add_production(self, non_terminal, production):\n",
        "        if non_terminal not in self.grammar:\n",
        "            self.grammar[non_terminal] = []\n",
        "        self.grammar[non_terminal].append(production)\n",
        "\n",
        "    def compute_first_sets(self):\n",
        "        # Initialize First sets\n",
        "        for non_terminal in self.grammar:\n",
        "            self.first_sets[non_terminal] = set()\n",
        "\n",
        "        while True:\n",
        "            updated = False\n",
        "            for non_terminal, productions in self.grammar.items():\n",
        "                for production in productions:\n",
        "                    for symbol in production:\n",
        "                        if symbol in self.terminals:\n",
        "                            if symbol not in self.first_sets[non_terminal]:\n",
        "                                updated = True\n",
        "                                self.first_sets[non_terminal].add(symbol)\n",
        "                                break\n",
        "                            else:\n",
        "                                break\n",
        "                        elif symbol in self.non_terminals:\n",
        "                            if not self.first_sets[symbol].issubset(self.first_sets[non_terminal]):\n",
        "                                updated = True\n",
        "                                self.first_sets[non_terminal].update(self.first_sets[symbol])\n",
        "                            if 'ε' not in self.first_sets[symbol]:\n",
        "                                break\n",
        "                    else:\n",
        "                        if 'ε' not in self.first_sets[non_terminal]:\n",
        "                            updated = True\n",
        "                            self.first_sets[non_terminal].add('ε')\n",
        "            if not updated:\n",
        "                break\n",
        "\n",
        "    def compute_follow_sets(self):\n",
        "        # Initialize Follow sets\n",
        "        for non_terminal in self.grammar:\n",
        "            self.follow_sets[non_terminal] = set()\n",
        "\n",
        "        start_symbol = next(iter(self.grammar))\n",
        "        self.follow_sets[start_symbol].add('$')\n",
        "\n",
        "        while True:\n",
        "            updated = False\n",
        "            for non_terminal, productions in self.grammar.items():\n",
        "                for production in productions:\n",
        "                    for i, symbol in enumerate(production):\n",
        "                        if symbol in self.non_terminals:\n",
        "                            rest = production[i + 1:]\n",
        "                            if not rest:\n",
        "                                if not self.follow_sets[symbol].issubset(self.follow_sets[non_terminal]):\n",
        "                                    updated = True\n",
        "                                    self.follow_sets[non_terminal].update(self.follow_sets[symbol])\n",
        "                            else:\n",
        "                                first_rest = self.compute_first(rest)\n",
        "                                if 'ε' in first_rest:\n",
        "                                    first_rest.remove('ε')\n",
        "                                    if not first_rest.issubset(self.follow_sets[symbol]):\n",
        "                                        updated = True\n",
        "                                        self.follow_sets[symbol].update(first_rest)\n",
        "                                        first_rest.add('ε')\n",
        "                                        if not first_rest.issubset(self.follow_sets[non_terminal]):\n",
        "                                            updated = True\n",
        "                                            self.follow_sets[non_terminal].update(first_rest)\n",
        "                                else:\n",
        "                                    if not first_rest.issubset(self.follow_sets[symbol]):\n",
        "                                        updated = True\n",
        "                                        self.follow_sets[symbol].update(first_rest)\n",
        "            if not updated:\n",
        "                break\n",
        "\n",
        "    def compute_first(self, symbols):\n",
        "        first_set = set()\n",
        "        for symbol in symbols:\n",
        "            if symbol in self.terminals:\n",
        "                first_set.add(symbol)\n",
        "                break\n",
        "            elif symbol in self.non_terminals:\n",
        "                first_set.update(self.first_sets[symbol])\n",
        "                if 'ε' not in self.first_sets[symbol]:\n",
        "                    break\n",
        "        else:\n",
        "            first_set.add('ε')\n",
        "        return first_set\n",
        "\n",
        "    def build_parsing_table(self):\n",
        "        for non_terminal, productions in self.grammar.items():\n",
        "            for production in productions:\n",
        "                first_set = self.compute_first(production)\n",
        "                for symbol in first_set:\n",
        "                    if symbol != 'ε':\n",
        "                        self.parsing_table[(non_terminal, symbol)] = production\n",
        "\n",
        "                if 'ε' in first_set:\n",
        "                    follow_set = self.follow_sets[non_terminal]\n",
        "                    for symbol in follow_set:\n",
        "                        self.parsing_table[(non_terminal, symbol)] = production\n",
        "\n",
        "    def print_parsing_table(self):\n",
        "        headers = [\"Non-terminal\"] + sorted(self.terminals) + ['$']\n",
        "        table = []\n",
        "\n",
        "        for non_terminal in self.grammar:\n",
        "            row = [non_terminal]\n",
        "            for col in headers[1:]:\n",
        "                if (non_terminal, col) in self.parsing_table:\n",
        "                    production = self.parsing_table[(non_terminal, col)]\n",
        "                    row.append(\" -> \".join(production))\n",
        "                else:\n",
        "                    row.append(\"\")\n",
        "            table.append(row)\n",
        "\n",
        "        table_str = tabulate(table, headers, tablefmt=\"fancy_grid\")\n",
        "        print(\"LL(1) Parsing Table:\")\n",
        "        print(table_str)\n",
        "\n",
        "    def parse(self, input_string):\n",
        "        stack = ['$']\n",
        "        input_string += '$'\n",
        "        input_index = 0\n",
        "        production_sequence = []\n",
        "\n",
        "        stack.append(next(iter(self.grammar)))  # Push the start symbol\n",
        "        while stack:\n",
        "            top_symbol = stack[-1]\n",
        "            current_input = input_string[input_index]\n",
        "\n",
        "            if top_symbol == current_input == '$':\n",
        "                print(\"Accepted\")\n",
        "                break\n",
        "\n",
        "            if top_symbol in self.terminals:\n",
        "                if top_symbol == current_input:\n",
        "                    stack.pop()\n",
        "                    input_index += 1\n",
        "                else:\n",
        "                    print(\"Rejected\")\n",
        "                    break\n",
        "            elif (top_symbol, current_input) in self.parsing_table:\n",
        "                production = self.parsing_table[(top_symbol, current_input)]\n",
        "                stack.pop()\n",
        "                if production != 'ε':\n",
        "                    stack.extend(reversed(production))\n",
        "                production_sequence.append(production)\n",
        "            else:\n",
        "                print(\"Rejected\")\n",
        "                break\n",
        "\n",
        "        print(\"Production Sequence:\")\n",
        "        for production in production_sequence:\n",
        "            print(\" -> \".join(production))\n",
        "\n",
        "\n",
        "if __name__ == \"__main__\":\n",
        "    parser = LL1Parser()\n",
        "\n",
        "    # Define your grammar here (example: a simple arithmetic expression grammar)\n",
        "    parser.non_terminals = {'E', 'T', 'F'}\n",
        "    parser.terminals = {'+', '*', '(', ')', 'id'}\n",
        "\n",
        "    parser.add_production('E', ['T', 'E\\''])\n",
        "    parser.add_production('E\\'', ['+', 'T', 'E\\''])\n",
        "    parser.add_production('E\\'', ['ε'])\n",
        "    parser.add_production('T', ['F', 'T\\''])\n",
        "    parser.add_production('T\\'', ['*', 'F', 'T\\''])\n",
        "    parser.add_production('T\\'', ['ε'])\n",
        "    parser.add_production('F', ['(', 'E', ')'])\n",
        "    parser.add_production('F', ['id'])\n",
        "\n",
        "    parser.compute_first_sets()\n",
        "    parser.compute_follow_sets()\n",
        "    parser.build_parsing_table()\n",
        "    parser.print_parsing_table()\n",
        "\n",
        "    input_string = \"id + id * id\"\n",
        "    print(\"\\nParsing Input:\", input_string)\n",
        "    parser.parse(input_string)\n"
      ],
      "metadata": {
        "colab": {
          "base_uri": "https://localhost:8080/"
        },
        "id": "SUVg9AxltgIh",
        "outputId": "4c1205ff-74f2-4ab6-fed2-be14b1ef8ed7"
      },
      "execution_count": 11,
      "outputs": [
        {
          "output_type": "stream",
          "name": "stdout",
          "text": [
            "LL(1) Parsing Table:\n",
            "╒════════════════╤═════════════╤═════╤══════════════╤══════════════╤═════════╤═════╕\n",
            "│ Non-terminal   │ (           │ )   │ *            │ +            │ id      │ $   │\n",
            "╞════════════════╪═════════════╪═════╪══════════════╪══════════════╪═════════╪═════╡\n",
            "│ E              │ T -> E'     │     │              │              │ T -> E' │     │\n",
            "├────────────────┼─────────────┼─────┼──────────────┼──────────────┼─────────┼─────┤\n",
            "│ E'             │             │     │              │ + -> T -> E' │         │     │\n",
            "├────────────────┼─────────────┼─────┼──────────────┼──────────────┼─────────┼─────┤\n",
            "│ T              │ F -> T'     │     │              │              │ F -> T' │     │\n",
            "├────────────────┼─────────────┼─────┼──────────────┼──────────────┼─────────┼─────┤\n",
            "│ T'             │             │     │ * -> F -> T' │              │         │     │\n",
            "├────────────────┼─────────────┼─────┼──────────────┼──────────────┼─────────┼─────┤\n",
            "│ F              │ ( -> E -> ) │     │              │              │ id      │     │\n",
            "╘════════════════╧═════════════╧═════╧══════════════╧══════════════╧═════════╧═════╛\n",
            "\n",
            "Parsing Input: id + id * id\n",
            "Rejected\n",
            "Production Sequence:\n"
          ]
        }
      ]
    },
    {
      "cell_type": "markdown",
      "source": [
        "## Explanation (Logic behind the code provided)"
      ],
      "metadata": {
        "id": "ea3f7jy9wAKD"
      }
    },
    {
      "cell_type": "markdown",
      "source": [
        "The provided Python code constructs the LL(1) parsing table for a given context-free grammar (CFG) and provides the functionality to parse input strings based on the generated LL(1) parsing table. Let's break down the code and explain how it addresses the question of constructing the LL(1) table for a given CFG:\n",
        "\n",
        "1. **Class `LL1Parser`**: This class encapsulates the logic for LL(1) parsing and table construction. It has several methods to perform various tasks related to LL(1) parsing and table generation.\n",
        "\n",
        "2. **Initialization**:\n",
        "   - The class initializes with empty data structures to store the CFG, non-terminals, terminals, first sets, follow sets, and the LL(1) parsing table.\n",
        "\n",
        "3. **`add_production` Method**:\n",
        "   - This method is used to add production rules to the grammar. It takes a non-terminal and a production as arguments and stores them in the `grammar` dictionary.\n",
        "\n",
        "4. **`compute_first_sets` Method**:\n",
        "   - It calculates the first sets for each non-terminal in the CFG using a while loop. It iteratively updates the first sets until they no longer change.\n",
        "   - The first set of a non-terminal contains the terminal symbols that can appear as the first symbol of a string derived from that non-terminal.\n",
        "\n",
        "5. **`compute_follow_sets` Method**:\n",
        "   - This method calculates the follow sets for each non-terminal in the CFG. Follow sets represent the terminals that can immediately follow a non-terminal in any valid derivation.\n",
        "   - It also uses a while loop to iteratively update the follow sets until they no longer change.\n",
        "\n",
        "6. **`compute_first` Method**:\n",
        "   - It calculates the first set of a given list of symbols. It is used during parsing to determine the first set of a sequence of symbols.\n",
        "\n",
        "7. **`build_parsing_table` Method**:\n",
        "   - This method constructs the LL(1) parsing table based on the computed first sets, follow sets, and grammar.\n",
        "   - For each production in the grammar, it calculates the first set of the production and updates the parsing table with entries for the non-terminal and each symbol in its first set.\n",
        "   - If the first set contains 'ε' (epsilon), it also updates the parsing table with entries for the follow set of the non-terminal.\n",
        "\n",
        "8. **`print_parsing_table` Method**:\n",
        "   - It prints the LL(1) parsing table in a tabulated format using the `tabulate` library, making it visually clear and organized.\n",
        "\n",
        "9. **`parse` Method**:\n",
        "   - This method performs LL(1) parsing on an input string using the constructed parsing table.\n",
        "   - It maintains a stack to simulate the parsing process and a production sequence to track the applied productions.\n",
        "   - The parsing process continues until the stack is empty and the input string is fully processed.\n",
        "\n",
        "10. **Main Section**:\n",
        "    - In the main section, an instance of the `LL1Parser` class is created.\n",
        "    - A sample CFG (arithmetic expression grammar) is defined with non-terminals and terminals, and production rules are added.\n",
        "    - The program computes the first sets, follow sets, and constructs the LL(1) parsing table.\n",
        "    - It then allows the user to enter input strings and performs LL(1) parsing on each input string, displaying the result.\n",
        "\n",
        "This code addresses the question by providing a reusable LL(1) parsing table generator for a given CFG. It calculates the necessary sets (first sets and follow sets) and builds a parsing table that allows parsing of input strings based on the provided grammar."
      ],
      "metadata": {
        "id": "J93S1XRZwPSc"
      }
    }
  ]
}