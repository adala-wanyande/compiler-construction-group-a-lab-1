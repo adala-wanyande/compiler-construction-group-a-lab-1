{
  "nbformat": 4,
  "nbformat_minor": 0,
  "metadata": {
    "colab": {
      "provenance": []
    },
    "kernelspec": {
      "name": "python3",
      "display_name": "Python 3"
    },
    "language_info": {
      "name": "python"
    }
  },
  "cells": [
    {
      "cell_type": "markdown",
      "source": [
        "# Group 6 Lab 2 Tasks 1 and 2"
      ],
      "metadata": {
        "id": "ypKvycTNPgWI"
      }
    },
    {
      "cell_type": "markdown",
      "source": [
        "## Group Members\n",
        "* **127820** - Catherine Nduta\n",
        "* **130816** - Natalie Ndetei\n",
        "* **134205** - Ryan Muema\n",
        "* **119199** - Mutiku Adina\n",
        "* **127690** - Sharon Mwangi\n",
        "* **134583** - Jeffrey Ongicho\n",
        "* **136667** - Benard Wanyande"
      ],
      "metadata": {
        "id": "MwH-RskXPiUD"
      }
    },
    {
      "cell_type": "markdown",
      "source": [
        "## Task 1\n",
        "- Write a program to identify programming lines (in the same programming language) as\n",
        "either comments or not.\n",
        "- Further to this task:\n",
        "1.   Describe the logic used.\n",
        "2.   Was lexical analysis or/and syntax analysis concepts important in your\n",
        "logic? If yes, how?"
      ],
      "metadata": {
        "id": "S0dwR_70PsdC"
      }
    },
    {
      "cell_type": "markdown",
      "source": [
        "## Write a program to identify programming lines (in the same programming language) as either comments or not.\n",
        "*Python has been used below*"
      ],
      "metadata": {
        "id": "VMA7XK05mn2_"
      }
    },
    {
      "cell_type": "code",
      "source": [
        "import re\n",
        "\n",
        "def identify_lines(input_code):\n",
        "    lines = input_code.split('\\n')\n",
        "    in_comment = False  # Initialize the variable here\n",
        "    for line in lines:\n",
        "        if re.match(r'^\\s*//', line):  # Single-line comment\n",
        "            print(\"Comment:\", line)\n",
        "        elif re.match(r'^\\s*/\\*', line):  # Multi-line comment start\n",
        "            in_comment = True\n",
        "            print(\"Comment:\", line)\n",
        "        elif re.match(r'.*\\*/\\s*$', line):  # Multi-line comment end\n",
        "            in_comment = False\n",
        "            print(\"Comment:\", line)\n",
        "        elif in_comment:  # Inside a multi-line comment\n",
        "            print(\"Comment:\", line)\n",
        "        else:  # Code\n",
        "            print(\"Code:\", line)\n",
        "\n",
        "# Example input code\n",
        "input_code = \"\"\"\n",
        "int main() {\n",
        "    // This is a single-line comment\n",
        "    /* This is a\n",
        "       multi-line comment */\n",
        "    int x = 5; // Another single-line comment\n",
        "    return 0;\n",
        "}\n",
        "\"\"\"\n",
        "\n",
        "identify_lines(input_code)\n"
      ],
      "metadata": {
        "colab": {
          "base_uri": "https://localhost:8080/"
        },
        "id": "oZR5ro4QhIvg",
        "outputId": "8be830ee-94c9-4a72-da13-7d4eafa623b4"
      },
      "execution_count": 26,
      "outputs": [
        {
          "output_type": "stream",
          "name": "stdout",
          "text": [
            "Code: \n",
            "Code: int main() {\n",
            "Comment:     // This is a single-line comment\n",
            "Comment:     /* This is a\n",
            "Comment:        multi-line comment */\n",
            "Code:     int x = 5; // Another single-line comment\n",
            "Code:     return 0;\n",
            "Code: }\n",
            "Code: \n"
          ]
        }
      ]
    },
    {
      "cell_type": "markdown",
      "source": [
        "## i. Describe the logic used\n",
        "\n",
        "The provided Python code defines a function named `identify_lines` that takes a string of input code as its argument and identifies whether each line in the input code is a comment or code. It uses regular expressions and logic to accomplish this task. Here's a breakdown of the logic:\n",
        "\n",
        "1. **Splitting Input Code into Lines:**\n",
        "   - The input code is split into individual lines using `input_code.split('\\n')`. This creates a list of lines, making it easier to process them one by one.\n",
        "\n",
        "2. **Initializing the `in_comment` Variable:**\n",
        "   - The `in_comment` variable is initialized as `False`. This variable is used to keep track of whether the current line is inside a multi-line comment.\n",
        "\n",
        "3. **Iterating Through Each Line:**\n",
        "   - A `for` loop iterates through each line in the input code.\n",
        "\n",
        "4. **Checking for Single-Line Comments:**\n",
        "   - The first `if` condition (`re.match(r'^\\s*//', line)`) checks if the current line starts with `//`, which indicates a single-line comment.\n",
        "   - If a single-line comment is found, it prints \"Comment:\" followed by the line and continues to the next line.\n",
        "\n",
        "5. **Checking for Multi-Line Comments:**\n",
        "   - The second and third `if` conditions check for the start (`/*`) and end (`*/`) of multi-line comments.\n",
        "   - When the start of a multi-line comment is found, the `in_comment` variable is set to `True`, indicating that subsequent lines are inside a multi-line comment.\n",
        "   - When the end of a multi-line comment is found, the `in_comment` variable is set to `False`, indicating that the multi-line comment has ended.\n",
        "   - Lines within multi-line comments are also printed as \"Comment:\" lines.\n",
        "\n",
        "6. **Identifying Code Lines:**\n",
        "   - If none of the above conditions are met, the `elif in_comment` condition checks whether the current line is inside a multi-line comment (based on the `in_comment` variable).\n",
        "   - If inside a multi-line comment, the line is printed as \"Comment:\"; otherwise, it is considered a code line and printed as \"Code:\".\n",
        "\n",
        "7. **Example Input Code:**\n",
        "   - The code at the end of the script demonstrates the `identify_lines` function with an example input code that includes single-line and multi-line comments as well as code lines.\n",
        "\n",
        "8. **Output:**\n",
        "   - The script prints each line with the label \"Comment:\" or \"Code:\" based on the identified category."
      ],
      "metadata": {
        "id": "c7gix1fBhOWS"
      }
    },
    {
      "cell_type": "markdown",
      "source": [
        "## ii. Was lexical analysis or/and syntax analysis concepts important in your logic? If yes, how?\n",
        "\n",
        "In the provided Python code for identifying comments and code lines in input text, both lexical analysis and syntax analysis concepts are indirectly relevant, although they are not explicitly implemented as part of a full-fledged compiler or parser. Let's discuss how these concepts are related to the logic:\n",
        "\n",
        "**Lexical Analysis (Lexing):**\n",
        "Lexical analysis, often referred to as \"lexing\" or \"tokenization,\" involves breaking down a stream of characters (the input text) into meaningful units called tokens. In this code:\n",
        "\n",
        "The splitting of the input code into individual lines using input_code.split('\\n') can be seen as a rudimentary form of lexing. Each line becomes a token.\n",
        "\n",
        "The regular expressions used to identify single-line comments (r'^\\s*//') and multi-line comments (r'^\\s*/\\*' and r'.*\\*/\\s*$') effectively tokenize lines into \"Comment\" tokens or \"Code\" tokens.\n",
        "\n",
        "**Syntax Analysis (Parsing):**\n",
        "\n",
        "Syntax analysis, or \"parsing,\" is the process of analyzing the structure of the code to determine if it conforms to a specified grammar or syntax. In this code:\n",
        "\n",
        "The logic identifies whether each line is a comment or code, which is a basic form of syntax analysis. It doesn't enforce a specific grammar, but it does classify lines based on simple syntax rules (e.g., lines starting with // are considered single-line comments).\n",
        "\n",
        "The use of in_comment as a flag represents a basic form of state management during parsing, which is common in more complex parsing tasks where the parser needs to keep track of context.\n",
        "\n",
        "While this code doesn't handle full programming language syntax, it does perform a simplified form of syntax analysis by classifying lines based on patterns and context."
      ],
      "metadata": {
        "id": "Z4Z4ixlRiAxJ"
      }
    },
    {
      "cell_type": "markdown",
      "source": [
        "# Task 2\n"
      ],
      "metadata": {
        "id": "t_AAEV4bicfl"
      }
    },
    {
      "cell_type": "code",
      "source": [
        "import keyword\n",
        "\n",
        "def is_valid_identifier(identifier):\n",
        "    if keyword.iskeyword(identifier):\n",
        "        return False\n",
        "\n",
        "    if not (identifier[0].isalpha() or identifier[0] == '_'):\n",
        "        return False\n",
        "\n",
        "    for char in identifier[1:]:\n",
        "        if not (char.isalnum() or char == '_'):\n",
        "            return False\n",
        "\n",
        "    return True\n",
        "\n",
        "while True:\n",
        "    identifier = input(\"Enter an identifier (or 'exit' to quit): \")\n",
        "\n",
        "    if identifier.lower() == 'exit':\n",
        "        break\n",
        "\n",
        "    if is_valid_identifier(identifier):\n",
        "        print(f\"'{identifier}' is a valid Python identifier.\")\n",
        "    else:\n",
        "        print(f\"'{identifier}' is not a valid Python identifier.\")\n"
      ],
      "metadata": {
        "colab": {
          "base_uri": "https://localhost:8080/"
        },
        "id": "-7KKYzZCiylX",
        "outputId": "5cf2b0c9-6fd6-4289-c219-67c72792bbeb"
      },
      "execution_count": 29,
      "outputs": [
        {
          "name": "stdout",
          "output_type": "stream",
          "text": [
            "Enter an identifier (or 'exit' to quit): id\n",
            "'id' is a valid Python identifier.\n",
            "Enter an identifier (or 'exit' to quit): word\n",
            "'word' is a valid Python identifier.\n",
            "Enter an identifier (or 'exit' to quit): \"\"\n",
            "'\"\"' is not a valid Python identifier.\n",
            "Enter an identifier (or 'exit' to quit): if\n",
            "'if' is not a valid Python identifier.\n",
            "Enter an identifier (or 'exit' to quit): else\n",
            "'else' is not a valid Python identifier.\n",
            "Enter an identifier (or 'exit' to quit): 123abc\n",
            "'123abc' is not a valid Python identifier.\n",
            "Enter an identifier (or 'exit' to quit): @invalid_identifier\n",
            "'@invalid_identifier' is not a valid Python identifier.\n",
            "Enter an identifier (or 'exit' to quit): my-var\n",
            "'my-var' is not a valid Python identifier.\n",
            "Enter an identifier (or 'exit' to quit): exit\n"
          ]
        }
      ]
    },
    {
      "cell_type": "markdown",
      "source": [
        "## Logic behind the program explained\n",
        "\n",
        "The Python program for checking the validity of identifiers uses specific rules and logic to determine whether an identifier is valid or not. Let's break down the logic step by step:\n",
        "\n",
        "**Python Identifier Rules:**\n",
        "1. An identifier must start with a letter (a-z or A-Z) or an underscore (_).\n",
        "2. The remaining characters in an identifier can be letters (a-z, A-Z), digits (0-9), or underscores (_).\n",
        "3. Identifiers are case-sensitive.\n",
        "4. Python keywords (reserved words) cannot be used as identifiers.\n",
        "\n",
        "**Logic Explained:**\n",
        "\n",
        "1. **Using the `keyword` Module:**\n",
        "   - The program uses Python's `keyword` module to check whether the given identifier is a Python keyword. Python keywords are reserved words with special meanings, and they cannot be used as identifiers.\n",
        "\n",
        "2. **Checking the First Character:**\n",
        "   - The program checks if the first character of the identifier is a letter (a-z or A-Z) or an underscore (_). This follows Python's rule that an identifier must start with one of these characters.\n",
        "   - If the first character is not a letter or an underscore, the identifier is considered invalid.\n",
        "\n",
        "3. **Checking the Remaining Characters:**\n",
        "   - The program iterates through the remaining characters of the identifier (starting from the second character).\n",
        "   - For each character, it checks if it is a letter (a-z or A-Z), a digit (0-9), or an underscore (_). These characters are allowed in Python identifiers.\n",
        "   - If any character does not meet these criteria, the identifier is considered invalid.\n",
        "\n",
        "4. **Case-Sensitivity:**\n",
        "   - The program treats identifiers as case-sensitive, which means that identifiers like `myVar` and `myvar` are considered distinct.\n",
        "\n",
        "5. **Output Messages:**\n",
        "   - Depending on the validation checks, the program prints a message indicating whether the provided identifier is valid or not.\n",
        "\n",
        "**Examples of Valid and Invalid Identifiers:**\n",
        "\n",
        "- **Valid Identifiers:**\n",
        "   - `my_variable`: Starts with a letter and includes letters, digits, and underscores.\n",
        "   - `_private_var`: Starts with an underscore and includes valid characters.\n",
        "   - `var2`: Starts with a letter and includes valid characters.\n",
        "\n",
        "- **Invalid Identifiers:**\n",
        "   - `123abc`: Starts with a digit, violating the rule that identifiers must start with a letter or underscore.\n",
        "   - `@invalid_identifier`: Contains an invalid character (`@`).\n",
        "   - `if`: A Python keyword and cannot be used as an identifier.\n",
        "   - `my-var`: Contains a hyphen, which is not a valid character in Python identifiers.\n",
        "\n",
        "The program enforces these rules to ensure that identifiers are named according to Python's syntax and conventions. This helps maintain code readability and avoid potential syntax errors when writing Python programs."
      ],
      "metadata": {
        "id": "kK6jaJhujvFS"
      }
    },
    {
      "cell_type": "markdown",
      "source": [
        "## i. Tools like Lex and Flex helped users develop lexers to do tasks like the one given above. Using the Flex specification file, develop a simple lexer to validate identifiers."
      ],
      "metadata": {
        "id": "p8v_RKPZkMXe"
      }
    },
    {
      "cell_type": "markdown",
      "source": [
        "### Installing dependencies"
      ],
      "metadata": {
        "id": "Xv-HOB4ckm1f"
      }
    },
    {
      "cell_type": "code",
      "source": [
        "!sudo apt install flex bison"
      ],
      "metadata": {
        "id": "Z2SQ9NORkqlw"
      },
      "execution_count": null,
      "outputs": []
    },
    {
      "cell_type": "markdown",
      "source": [
        "### Creating a flex specification file"
      ],
      "metadata": {
        "id": "3js0SMeHk21x"
      }
    },
    {
      "cell_type": "code",
      "source": [
        "%%writefile lexer.l\n",
        "%{\n",
        "#include <stdio.h>\n",
        "%}\n",
        "\n",
        "%%\n",
        "\n",
        "[A-Za-z_][A-Za-z0-9_]* {\n",
        "    printf(\"Valid Identifier: %s\\n\", yytext);\n",
        "}\n",
        "\n",
        ".|\\n {\n",
        "    printf(\"Invalid Identifier: %s\\n\", yytext);\n",
        "}\n",
        "\n",
        "%%\n",
        "\n",
        "int main() {\n",
        "    yylex();\n",
        "    return 0;\n",
        "}\n"
      ],
      "metadata": {
        "colab": {
          "base_uri": "https://localhost:8080/"
        },
        "id": "P-l5rd2okeh_",
        "outputId": "207e844c-6b22-4864-daf8-fd6a7a8ee11c"
      },
      "execution_count": 31,
      "outputs": [
        {
          "output_type": "stream",
          "name": "stdout",
          "text": [
            "Overwriting lexer.l\n"
          ]
        }
      ]
    },
    {
      "cell_type": "markdown",
      "source": [
        "### Compiling the flex specification file"
      ],
      "metadata": {
        "id": "HkSm4DtolDju"
      }
    },
    {
      "cell_type": "code",
      "source": [
        "!flex lexer.l"
      ],
      "metadata": {
        "id": "OrpSWZszlITA"
      },
      "execution_count": 32,
      "outputs": []
    },
    {
      "cell_type": "markdown",
      "source": [
        "### Compiling the C source file"
      ],
      "metadata": {
        "id": "D-iHNF2HlNvQ"
      }
    },
    {
      "cell_type": "code",
      "source": [
        "!gcc -o lexer lex.yy.c -lfl"
      ],
      "metadata": {
        "id": "dqtzuW6ylSy0"
      },
      "execution_count": 33,
      "outputs": []
    },
    {
      "cell_type": "markdown",
      "source": [
        "### Running the lexer"
      ],
      "metadata": {
        "id": "EeBxMYB6lZfy"
      }
    },
    {
      "cell_type": "code",
      "source": [
        "!./lexer\n"
      ],
      "metadata": {
        "colab": {
          "base_uri": "https://localhost:8080/"
        },
        "id": "dg0hjb9Alc_6",
        "outputId": "045971e5-f2a4-4203-f21b-c64b6cb9e40c"
      },
      "execution_count": 34,
      "outputs": [
        {
          "output_type": "stream",
          "name": "stdout",
          "text": [
            "my_variable\n",
            "Valid Identifier: my_variable\n",
            "Invalid Identifier: \n",
            "\n",
            "123abc\n",
            "Invalid Identifier: 1\n",
            "Invalid Identifier: 2\n",
            "Invalid Identifier: 3\n",
            "Valid Identifier: abc\n",
            "Invalid Identifier: \n",
            "\n",
            "@invalididentifier\n",
            "Invalid Identifier: @\n",
            "Valid Identifier: invalididentifier\n",
            "Invalid Identifier: \n",
            "\n",
            "exit\n",
            "Valid Identifier: exit\n",
            "Invalid Identifier: \n",
            "\n",
            "\n",
            "Invalid Identifier: \n",
            "\n",
            "^C\n"
          ]
        }
      ]
    },
    {
      "cell_type": "markdown",
      "source": [
        "The lexer recognizes valid identifiers based on the specified pattern and prints them as \"Valid Identifier.\" Invalid identifiers are printed as \"Invalid Identifier.\"\n",
        "\n",
        "You can modify the Flex specification file to suit your specific needs or add more complex tokenization rules for identifiers based on your language's syntax."
      ],
      "metadata": {
        "id": "3TtYpViXmh6t"
      }
    }
  ]
}